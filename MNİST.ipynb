{
  "nbformat": 4,
  "nbformat_minor": 0,
  "metadata": {
    "colab": {
      "provenance": [],
      "gpuType": "T4",
      "authorship_tag": "ABX9TyNiouCifmKoh7Q6WE+/uLaH",
      "include_colab_link": true
    },
    "kernelspec": {
      "name": "python3",
      "display_name": "Python 3"
    },
    "language_info": {
      "name": "python"
    },
    "accelerator": "GPU"
  },
  "cells": [
    {
      "cell_type": "markdown",
      "metadata": {
        "id": "view-in-github",
        "colab_type": "text"
      },
      "source": [
        "<a href=\"https://colab.research.google.com/github/muratgorgl/Keras-Tensorflow-ile-Rakamlar-tan-ma-MNIST-Dataset/blob/main/MN%C4%B0ST.ipynb\" target=\"_parent\"><img src=\"https://colab.research.google.com/assets/colab-badge.svg\" alt=\"Open In Colab\"/></a>"
      ]
    },
    {
      "cell_type": "code",
      "execution_count": 1,
      "metadata": {
        "colab": {
          "base_uri": "https://localhost:8080/"
        },
        "id": "7R1qw9wk9s6H",
        "outputId": "d5fc7ec5-1ba0-4ae2-8d68-14428cf6f05a"
      },
      "outputs": [
        {
          "output_type": "stream",
          "name": "stdout",
          "text": [
            "Drive already mounted at /gdrive; to attempt to forcibly remount, call drive.mount(\"/gdrive\", force_remount=True).\n",
            "/gdrive\n"
          ]
        }
      ],
      "source": [
        "from google.colab import drive\n",
        "drive.mount(\"/gdrive\")\n",
        "%cd /gdrive"
      ]
    },
    {
      "cell_type": "markdown",
      "source": [
        "# Kurulum ve Kontroller\n"
      ],
      "metadata": {
        "id": "iWZOvTns-pAE"
      }
    },
    {
      "cell_type": "code",
      "source": [
        "from tensorflow.python.client import device_lib\n",
        "device_lib.list_local_devices()"
      ],
      "metadata": {
        "colab": {
          "base_uri": "https://localhost:8080/"
        },
        "id": "CzwtiNEd-tJI",
        "outputId": "6bceebae-af7d-45eb-ae0c-6ada8250a3a1"
      },
      "execution_count": 2,
      "outputs": [
        {
          "output_type": "execute_result",
          "data": {
            "text/plain": [
              "[name: \"/device:CPU:0\"\n",
              " device_type: \"CPU\"\n",
              " memory_limit: 268435456\n",
              " locality {\n",
              " }\n",
              " incarnation: 12911457993737015713\n",
              " xla_global_id: -1,\n",
              " name: \"/device:GPU:0\"\n",
              " device_type: \"GPU\"\n",
              " memory_limit: 14626652160\n",
              " locality {\n",
              "   bus_id: 1\n",
              "   links {\n",
              "   }\n",
              " }\n",
              " incarnation: 5922519157934650167\n",
              " physical_device_desc: \"device: 0, name: Tesla T4, pci bus id: 0000:00:04.0, compute capability: 7.5\"\n",
              " xla_global_id: 416903419]"
            ]
          },
          "metadata": {},
          "execution_count": 2
        }
      ]
    },
    {
      "cell_type": "code",
      "source": [
        "!mkdir -p drive\n",
        "!google-drive-ocamlfuse drive\n",
        "!ls"
      ],
      "metadata": {
        "colab": {
          "base_uri": "https://localhost:8080/"
        },
        "id": "IF7TyGYf-75g",
        "outputId": "64c7bc02-cba1-490f-d531-f6b37a223b95"
      },
      "execution_count": 3,
      "outputs": [
        {
          "output_type": "stream",
          "name": "stdout",
          "text": [
            "mkdir: cannot create directory ‘drive’: Operation not supported\n",
            "/bin/bash: line 1: google-drive-ocamlfuse: command not found\n",
            "MyDrive\n"
          ]
        }
      ]
    },
    {
      "cell_type": "code",
      "source": [
        "!ls drive"
      ],
      "metadata": {
        "colab": {
          "base_uri": "https://localhost:8080/"
        },
        "id": "CHDuJfI8_-4r",
        "outputId": "c71c6108-5671-4912-b2e3-918d1ff4af80"
      },
      "execution_count": 4,
      "outputs": [
        {
          "output_type": "stream",
          "name": "stdout",
          "text": [
            "ls: cannot access 'drive': No such file or directory\n"
          ]
        }
      ]
    },
    {
      "cell_type": "code",
      "source": [
        "!ls"
      ],
      "metadata": {
        "colab": {
          "base_uri": "https://localhost:8080/"
        },
        "id": "XFk2LdI_AIjW",
        "outputId": "87efb971-02e7-4b9c-8b5c-4ebbc9730f22"
      },
      "execution_count": 5,
      "outputs": [
        {
          "output_type": "stream",
          "name": "stdout",
          "text": [
            "MyDrive\n"
          ]
        }
      ]
    },
    {
      "cell_type": "code",
      "source": [
        "!pwd"
      ],
      "metadata": {
        "colab": {
          "base_uri": "https://localhost:8080/"
        },
        "id": "9K3qkB5zAJkN",
        "outputId": "904a918d-2812-4a38-ae82-dc408638684a"
      },
      "execution_count": 6,
      "outputs": [
        {
          "output_type": "stream",
          "name": "stdout",
          "text": [
            "/gdrive\n"
          ]
        }
      ]
    },
    {
      "cell_type": "code",
      "source": [
        "%cd /gdrive"
      ],
      "metadata": {
        "colab": {
          "base_uri": "https://localhost:8080/"
        },
        "id": "RZff45eCANqW",
        "outputId": "f85731d5-dc09-4b93-ff89-cf0389cc55cc"
      },
      "execution_count": 7,
      "outputs": [
        {
          "output_type": "stream",
          "name": "stdout",
          "text": [
            "/gdrive\n"
          ]
        }
      ]
    },
    {
      "cell_type": "code",
      "source": [
        "!ls\n"
      ],
      "metadata": {
        "colab": {
          "base_uri": "https://localhost:8080/"
        },
        "id": "N7iStoavARP5",
        "outputId": "a1f6f043-a53e-4157-d848-3e36d0e958ad"
      },
      "execution_count": 8,
      "outputs": [
        {
          "output_type": "stream",
          "name": "stdout",
          "text": [
            "MyDrive\n"
          ]
        }
      ]
    },
    {
      "cell_type": "code",
      "source": [
        "!pip install -q keras"
      ],
      "metadata": {
        "id": "uCYsTWs_ASYg"
      },
      "execution_count": 1,
      "outputs": []
    },
    {
      "cell_type": "markdown",
      "source": [
        "# Uygulama Başlangıç"
      ],
      "metadata": {
        "id": "ers054WZCD2I"
      }
    },
    {
      "cell_type": "code",
      "source": [
        "from __future__ import print_function\n",
        "import keras\n",
        "from keras.datasets import mnist\n",
        "from keras.models import load_model\n",
        "from keras.models import Sequential\n",
        "from keras.layers import Dense,Dropout,Flatten\n",
        "from keras.layers import Conv2D,MaxPooling2D\n",
        "from keras import backend as K\n",
        "\n",
        "import matplotlib.pyplot as plt"
      ],
      "metadata": {
        "id": "0Q1_ON6ICIJo"
      },
      "execution_count": 2,
      "outputs": []
    },
    {
      "cell_type": "code",
      "source": [
        "(x_train,y_train) , (x_test,y_test)=mnist.load_data()"
      ],
      "metadata": {
        "id": "41iBFlmuERl8"
      },
      "execution_count": 3,
      "outputs": []
    },
    {
      "cell_type": "code",
      "source": [
        "plt.figure(figsize=(14,14))\n",
        "x , y = 10 , 4\n",
        "for i in range(40):\n",
        "  plt.subplot(y,x,i+1)\n",
        "  plt.imshow(x_train[i])\n",
        "\n",
        "plt.show()"
      ],
      "metadata": {
        "colab": {
          "base_uri": "https://localhost:8080/",
          "height": 1000
        },
        "id": "Uz68p_OoUOrg",
        "outputId": "f7aabc59-de7c-4d7e-cbc4-d19703dbf882"
      },
      "execution_count": 4,
      "outputs": [
        {
          "output_type": "display_data",
          "data": {
            "text/plain": [
              "<Figure size 1400x1400 with 40 Axes>"
            ],
            "image/png": "[encoded data removed]"
          },
          "metadata": {}
        }
      ]
    },
    {
      "cell_type": "code",
      "source": [
        "# Eğitim için batch boyutu. Bu, her eğitim adımında modelin güncellenmeden önce kaç örneğin işleneceğini belirler.\n",
        "batch_size = 128\n",
        "\n",
        "# Veri kümesindeki sınıf sayısı. MNIST veri kümesi, 0'dan 9'a kadar 10 rakam içerir.\n",
        "num_classes = 10\n",
        "\n",
        "# Eğitilecek dönem sayısı. Bir dönem, tüm eğitim veri kümesinin model tarafından bir kez görülmesi anlamına gelir.\n",
        "# Daha iyi doğruluk için 12 dönem önerilir, ancak burada hesaplama süresini kısaltmak için 5 kullanıyoruz.\n",
        "epochs = 5\n",
        "\n",
        "# Veri kümesindeki görüntülerin boyutları. MNIST görüntüleri 28x28 piksel boyutundadır.\n",
        "img_rows, img_cols = 28, 28\n",
        "\n",
        "# Keras tarafından kullanılan görüntü veri biçimini kontrol edin. Keras, \"kanallar önce\" (kanallar boyutu ilk gelir)\n",
        "# veya \"kanallar sonra\" (kanallar boyutu son gelir) biçimlerini destekler.\n",
        "if K.image_data_format() == \"channels_first\":\n",
        "  # Verileri \"kanallar önce\" biçimine uyacak şekilde yeniden şekillendirin. Bu, her görüntüyü (örnek sayısı, kanallar, yükseklik, genişlik)\n",
        "  # şeklinde bir 4 boyutlu diziye dönüştürür. MNIST görüntüleri gri tonlamalı olduğundan, kanal sayısı 1'dir.\n",
        "  x_train = x_train.reshape(x_train.shape[0], 1, img_rows, img_cols)\n",
        "  x_test = x_test.reshape(x_test.shape[0], 1, img_rows, img_cols)\n",
        "\n",
        "  # Model için giriş şeklini ayarlayın. Bu, modelin beklediği giriş verilerinin şeklini belirtir.\n",
        "  input_shape = (img_rows, img_cols, 1)"
      ],
      "metadata": {
        "id": "i47jSSGBUruz"
      },
      "execution_count": 5,
      "outputs": []
    },
    {
      "cell_type": "code",
      "source": [
        "# Eğitim etiketlerini kategorik formata dönüştürün.\n",
        "# Bu, her etiketi 10 öğeli bir diziye dönüştürür, burada her öğe bir sınıfı temsil eder ve doğru sınıf için karşılık gelen öğe 1 olarak ayarlanır.\n",
        "y_train=keras.utils.to_categorical(y_train,num_classes)\n",
        "\n",
        "# Test etiketlerini kategorik formata dönüştürün.\n",
        "# Bu, her etiketi 10 öğeli bir diziye dönüştürür, burada her öğe bir sınıfı temsil eder ve doğru sınıf için karşılık gelen öğe 1 olarak ayarlanır.\n",
        "y_test=keras.utils.to_categorical(y_test,num_classes)"
      ],
      "metadata": {
        "id": "UlhiinwteUts"
      },
      "execution_count": 6,
      "outputs": []
    },
    {
      "cell_type": "markdown",
      "source": [
        "# Model Oluşturma\n"
      ],
      "metadata": {
        "id": "xrgBBnq_fnLG"
      }
    },
    {
      "cell_type": "code",
      "source": [
        "model=Sequential()\n",
        "\n",
        "input_shape=(28,28,1)\n",
        "# İlk Convolutional katmanı\n",
        "# 32 adet filtre kullanılarak, 3x3 boyutlarında kernel uygulanacak\n",
        "# Aktivasyon fonksiyonu olarak ReLU (Rectified Linear Unit) kullanılıyor\n",
        "# input_shape parametresi, giriş verisinin boyutlarını belirtir (örneğin, 28x28x1)\n",
        "model.add(Conv2D(32, kernel_size=(3, 3), activation=\"relu\", input_shape=input_shape))\n",
        "\n",
        "# İkinci Convolutional katmanı\n",
        "# 64 adet filtre kullanılarak, yine 3x3 boyutlarında kernel uygulanacak\n",
        "# Aktivasyon fonksiyonu olarak yine ReLU kullanılıyor\n",
        "model.add(Conv2D(64, kernel_size=(3, 3), activation=\"relu\"))\n",
        "\n",
        "# MaxPooling katmanı\n",
        "# 2x2 boyutlarında pencereler kullanılarak Max Pooling uygulanacak\n",
        "# Bu katman, özellik haritalarının boyutlarını yarıya indirir ve modelin hesaplama yükünü azaltır\n",
        "model.add(MaxPooling2D(pool_size=(2, 2)))\n",
        "\n",
        "# Dropout katmanı\n",
        "# Overfitting'i önlemek için, bir oran (0.25) ile belirli nöronları rastgele devre dışı bırakır\n",
        "# Eğitim sırasında belirtilen oranda nöronları sıfırlayarak, modelin genelleme yeteneğini artırır\n",
        "model.add(Dropout(0.25))\n",
        "\n",
        "# Flatten katmanı\n",
        "# Convolutional ve MaxPooling katmanlarının çıktılarını tek boyutlu bir vektöre dönüştürür\n",
        "# Dense (tam bağlantılı) katmanlar için giriş verisini hazırlar\n",
        "model.add(Flatten())\n",
        "\n",
        "# Dense (Tam Bağlantılı) katmanı\n",
        "# 128 nöron içeren tam bağlantılı katman\n",
        "# Aktivasyon fonksiyonu olarak ReLU kullanılıyor\n",
        "# Bu katman, öğrenilen özellikleri daha yüksek seviyeli özellikler haline getirir\n",
        "model.add(Dense(128, activation=\"relu\"))\n",
        "\n",
        "# Dropout katmanı\n",
        "# Tekrar overfitting'i önlemek için, daha yüksek bir oran (0.50) ile belirli nöronları rastgele devre dışı bırakır\n",
        "# Bu katman, eğitim sırasında modelin genelleme yeteneğini daha da artırır\n",
        "model.add(Dropout(0.50))\n",
        "\n",
        "# Çıkış katmanı\n",
        "# Sınıflandırma problemi için softmax aktivasyon fonksiyonu kullanılarak sınıf olasılıklarını hesaplar\n",
        "# num_classes, sınıf sayısını belirtir (örneğin, 10 sınıf için num_classes = 10)\n",
        "model.add(Dense(num_classes, activation=\"softmax\"))\n"
      ],
      "metadata": {
        "id": "WlCNPXlMfv1A"
      },
      "execution_count": 7,
      "outputs": []
    },
    {
      "cell_type": "markdown",
      "source": [
        "#Model Görselleştirme"
      ],
      "metadata": {
        "id": "o4IgKMvtksWR"
      }
    },
    {
      "cell_type": "code",
      "source": [
        "# Model Özeti\n",
        "\n",
        "model.summary()"
      ],
      "metadata": {
        "colab": {
          "base_uri": "https://localhost:8080/"
        },
        "id": "iL1lNB6Zgp-4",
        "outputId": "df460909-1a88-4c93-ffcf-d98b320c04c8"
      },
      "execution_count": 8,
      "outputs": [
        {
          "output_type": "stream",
          "name": "stdout",
          "text": [
            "Model: \"sequential\"\n",
            "_________________________________________________________________\n",
            " Layer (type)                Output Shape              Param #   \n",
            "=================================================================\n",
            " conv2d (Conv2D)             (None, 26, 26, 32)        320       \n",
            "                                                                 \n",
            " conv2d_1 (Conv2D)           (None, 24, 24, 64)        18496     \n",
            "                                                                 \n",
            " max_pooling2d (MaxPooling2  (None, 12, 12, 64)        0         \n",
            " D)                                                              \n",
            "                                                                 \n",
            " dropout (Dropout)           (None, 12, 12, 64)        0         \n",
            "                                                                 \n",
            " flatten (Flatten)           (None, 9216)              0         \n",
            "                                                                 \n",
            " dense (Dense)               (None, 128)               1179776   \n",
            "                                                                 \n",
            " dropout_1 (Dropout)         (None, 128)               0         \n",
            "                                                                 \n",
            " dense_1 (Dense)             (None, 10)                1290      \n",
            "                                                                 \n",
            "=================================================================\n",
            "Total params: 1199882 (4.58 MB)\n",
            "Trainable params: 1199882 (4.58 MB)\n",
            "Non-trainable params: 0 (0.00 Byte)\n",
            "_________________________________________________________________\n"
          ]
        }
      ]
    },
    {
      "cell_type": "code",
      "source": [
        "# Modeli derlemek (compile) için kullanılan fonksiyon\n",
        "# Bu, modelin nasıl optimize edileceğini, kayıp fonksiyonunun ne olduğunu ve hangi metriklerin değerlendirileceğini belirler\n",
        "model.compile(\n",
        "    # Kayıp fonksiyonu olarak categorical_crossentropy kullanılıyor\n",
        "    # Bu kayıp fonksiyonu, sınıflandırma problemleri için yaygın olarak kullanılır\n",
        "    # One-hot encoded etiketler ve modelin tahminleri arasındaki farkı hesaplar\n",
        "    loss=keras.losses.categorical_crossentropy,\n",
        "\n",
        "    # Optimizasyon algoritması olarak Adadelta kullanılıyor\n",
        "    # Adadelta, öğrenme oranını dinamik olarak ayarlayan bir adaptif öğrenme oranı yöntemidir\n",
        "    # Öğrenme oranını manuel olarak ayarlama gereksinimini ortadan kaldırır\n",
        "    optimizer=keras.optimizers.Adadelta(),\n",
        "\n",
        "    # Eğitim sürecinde izlenecek metrikler\n",
        "    # accuracy metriği, modelin tahminlerinin doğruluğunu değerlendirir\n",
        "    # Eğitim ve doğrulama süreçlerinde doğruluk metriği raporlanacak\n",
        "    metrics=[\"accuracy\"]\n",
        ")\n"
      ],
      "metadata": {
        "id": "RH0dUgwLitXJ"
      },
      "execution_count": 42,
      "outputs": []
    },
    {
      "cell_type": "markdown",
      "source": [
        "#Eğitim İşlemleri"
      ],
      "metadata": {
        "id": "DsouLbGblWn7"
      }
    },
    {
      "cell_type": "code",
      "source": [
        "# Modeli eğitmek için kullanılan fonksiyon\n",
        "# Bu fonksiyon, modelin eğitim verileri üzerinde öğrenmesini sağlar ve modelin performansını değerlendirir\n",
        "model.fit(\n",
        "    # Eğitim verileri\n",
        "    # x_train: Modelin öğrenmesi için kullanılan giriş verileri\n",
        "    # y_train: x_train verilerine karşılık gelen etiketler (target values)\n",
        "    x_train,\n",
        "    y_train,\n",
        "\n",
        "    # Batch size (parti boyutu)\n",
        "    # Her bir adımda işlenecek veri örneği sayısıdır\n",
        "    # Büyük batch size'lar daha fazla bellek tüketir, küçük batch size'lar ise daha az bellek tüketir\n",
        "    # Bu örnekte batch_size, modelin bir seferde kaç örnek işleyeceğini belirler\n",
        "    batch_size=batch_size,\n",
        "\n",
        "    # Epoch sayısı\n",
        "    # Modelin tüm eğitim verilerini kaç kez tekrar edeceğini belirtir\n",
        "    # Her epoch'ta model tüm eğitim verilerini bir kez işleyip günceller\n",
        "    # Epoch sayısını artırmak, modelin daha fazla öğrenmesini sağlar, ancak aşırı uyum (overfitting) riskini de artırır\n",
        "    epochs=epochs,\n",
        "\n",
        "    # Verbose (ayrıntı seviyesi)\n",
        "    # Eğitim sürecinde modelin durumunu ne kadar ayrıntılı göstereceğini belirler\n",
        "    # verbose=1, eğitim sürecinde her epoch'un ilerlemesini gösterir\n",
        "    # verbose=2, her epoch sonunda detaylı bir rapor sağlar\n",
        "    # verbose=0, eğitim sürecini hiç göstermez\n",
        "    verbose=1,\n",
        "\n",
        "    # Doğrulama verileri\n",
        "    # Modelin eğitim sürecinde doğrulama performansını değerlendirmek için kullanılan veriler\n",
        "    # validation_data parametresi, eğitim sürecinde modelin doğrulama verileri üzerinde de test edilmesini sağlar\n",
        "    # Bu sayede, modelin doğruluk ve kayıp değerleri hem eğitim hem de doğrulama veri setleri üzerinde izlenebilir\n",
        "    validation_data=(x_test, y_test)\n",
        ")\n"
      ],
      "metadata": {
        "colab": {
          "base_uri": "https://localhost:8080/"
        },
        "id": "neLO62p2lomW",
        "outputId": "d113371b-703f-4c3e-bf5e-2453cd257471"
      },
      "execution_count": 43,
      "outputs": [
        {
          "output_type": "stream",
          "name": "stdout",
          "text": [
            "Epoch 1/5\n",
            "469/469 [==============================] - 6s 10ms/step - loss: 1.4978 - accuracy: 0.5242 - val_loss: 0.9743 - val_accuracy: 0.7164\n",
            "Epoch 2/5\n",
            "469/469 [==============================] - 5s 10ms/step - loss: 1.4515 - accuracy: 0.5396 - val_loss: 0.9348 - val_accuracy: 0.7263\n",
            "Epoch 3/5\n",
            "469/469 [==============================] - 4s 9ms/step - loss: 1.4333 - accuracy: 0.5480 - val_loss: 0.9108 - val_accuracy: 0.7332\n",
            "Epoch 4/5\n",
            "469/469 [==============================] - 4s 9ms/step - loss: 1.3962 - accuracy: 0.5564 - val_loss: 0.8759 - val_accuracy: 0.7406\n",
            "Epoch 5/5\n",
            "469/469 [==============================] - 5s 10ms/step - loss: 1.3717 - accuracy: 0.5638 - val_loss: 0.8529 - val_accuracy: 0.7473\n"
          ]
        },
        {
          "output_type": "execute_result",
          "data": {
            "text/plain": [
              "<keras.src.callbacks.History at 0x7b99201cdf30>"
            ]
          },
          "metadata": {},
          "execution_count": 43
        }
      ]
    },
    {
      "cell_type": "code",
      "source": [
        "model.save(\"save_model/mnist_model.h5\")"
      ],
      "metadata": {
        "colab": {
          "base_uri": "https://localhost:8080/"
        },
        "id": "ncML1Mq7o2zp",
        "outputId": "6f911ef8-fdc8-438b-e9f5-75eb1a51eb8c"
      },
      "execution_count": 44,
      "outputs": [
        {
          "output_type": "stream",
          "name": "stderr",
          "text": [
            "/usr/local/lib/python3.10/dist-packages/keras/src/engine/training.py:3103: UserWarning: You are saving your model as an HDF5 file via `model.save()`. This file format is considered legacy. We recommend using instead the native Keras format, e.g. `model.save('my_model.keras')`.\n",
            "  saving_api.save_model(\n"
          ]
        }
      ]
    },
    {
      "cell_type": "code",
      "source": [
        "# Modeli test verileri üzerinde değerlendirmek için kullanılan fonksiyon\n",
        "# Bu fonksiyon, modelin test veri setindeki performansını ölçer\n",
        "# Test verileri üzerinde modelin kayıp ve doğruluk gibi metriklerini hesaplar\n",
        "score = model.evaluate(\n",
        "    # Test verileri\n",
        "    # x_test: Modelin test sürecinde değerlendirilmek üzere kullanılan giriş verileri\n",
        "    # y_test: x_test verilerine karşılık gelen gerçek etiketler\n",
        "    x_test,\n",
        "    y_test,\n",
        "\n",
        "    # Verbose (ayrıntı seviyesi)\n",
        "    # Eğitim sürecinde olduğu gibi, evaluate fonksiyonu da verbose parametresi alabilir\n",
        "    # verbose=0, değerlendirme sürecinin detaylarını göstermeden sadece sonuçları döner\n",
        "    # verbose=1, değerlendirme sürecinde ilerlemeyi gösterir (genellikle eğitim sürecinde verbose=1 veya verbose=2 kullanılır)\n",
        "    verbose=0\n",
        ")\n",
        "\n",
        "# Modelin test verileri üzerindeki kayıp değerini yazdırır\n",
        "# score[0], test veri setindeki kayıp değerini içerir\n",
        "print(\"Test Loss:\", score[0])\n",
        "\n",
        "# Modelin test verileri üzerindeki doğruluk değerini yazdırır\n",
        "# score[1], test veri setindeki doğruluk değerini içerir\n",
        "print(\"Test Accuracy:\", score[1])\n"
      ],
      "metadata": {
        "colab": {
          "base_uri": "https://localhost:8080/"
        },
        "id": "rO4l89n4qHX6",
        "outputId": "e624de50-7b9c-4f30-b462-b2f2ccce9863"
      },
      "execution_count": 32,
      "outputs": [
        {
          "output_type": "stream",
          "name": "stdout",
          "text": [
            "Test Loss: 1.0188952684402466\n",
            "Test Accuracy: 0.7060999870300293\n"
          ]
        }
      ]
    },
    {
      "cell_type": "code",
      "source": [
        "# Test veri setinden 5. indeksteki görüntüyü seçer\n",
        "# Bu görüntü, modelin test aşamasında değerlendirilmek üzere kullanılan bir örnektir\n",
        "# test_image değişkeni, bu görüntüyü temsil eder ve modelin tahminleriyle karşılaştırmak için kullanılabilir\n",
        "test_image = x_test[5]\n",
        "\n",
        "# Test veri setinden 5. indeksteki etiket değerini seçer\n",
        "# Bu etiket, x_test[5] görüntüsüne karşılık gelen gerçek sınıf etiketidir\n",
        "# y_test[5] değeri, modelin tahminleri ile karşılaştırmak için kullanılan doğru sınıf etiketini içerir\n",
        "y_test[5]\n"
      ],
      "metadata": {
        "colab": {
          "base_uri": "https://localhost:8080/"
        },
        "id": "GtAi4oOPqYNE",
        "outputId": "cac7381a-baa4-4e49-be94-f1d267695cec"
      },
      "execution_count": 45,
      "outputs": [
        {
          "output_type": "execute_result",
          "data": {
            "text/plain": [
              "array([0., 1., 0., 0., 0., 0., 0., 0., 0., 0.], dtype=float32)"
            ]
          },
          "metadata": {},
          "execution_count": 45
        }
      ]
    },
    {
      "cell_type": "code",
      "source": [
        "# test_image değişkenindeki görüntüyü 28x28 boyutunda yeniden şekillendirip görselleştirir\n",
        "# .reshape(28, 28) metodu, görüntüyü 28x28 piksel boyutuna dönüştürür\n",
        "# Bu, genellikle gri tonlamalı (grayscale) görüntüler için kullanılan bir boyuttur\n",
        "# Görselleştirmek için matplotlib kütüphanesinin imshow fonksiyonu kullanılır\n",
        "# Bu fonksiyon, görüntüyü ekran üzerinde gösterir\n",
        "plt.imshow(test_image.reshape(28, 28))\n",
        "\n",
        "# cmap='gray' parametresi, görüntünün gri tonlamalı olarak gösterilmesini sağlar\n",
        "# Renkli (RGB) görüntülerde bu parametreye ihtiyaç duyulmaz, ancak gri tonlamalı görüntülerde bu parametre görüntünün doğru renklerde görünmesini sağlar\n",
        "# Bu satır, modelin test verilerinden seçilen örneği görsel olarak incelemek için kullanılır\n"
      ],
      "metadata": {
        "colab": {
          "base_uri": "https://localhost:8080/",
          "height": 447
        },
        "id": "jDiWRFTLsexe",
        "outputId": "6bf1ef56-f317-45f4-b09d-0c420f43a1c6"
      },
      "execution_count": 46,
      "outputs": [
        {
          "output_type": "execute_result",
          "data": {
            "text/plain": [
              "<matplotlib.image.AxesImage at 0x7b99104b25c0>"
            ]
          },
          "metadata": {},
          "execution_count": 46
        },
        {
          "output_type": "display_data",
          "data": {
            "text/plain": [
              "<Figure size 640x480 with 1 Axes>"
            ],
            "image/png": "[encoded data removed]"
          },
          "metadata": {}
        }
      ]
    },
    {
      "cell_type": "code",
      "source": [
        "# x_test veri setinden 128. indeksteki görüntüyü seçer ve yeniden şekillendirir\n",
        "# .reshape(1, 28, 28, 1) metodu, bu görüntüyü (28, 28) boyutundan 4D bir diziye dönüştürür\n",
        "# İlk boyut (1), modelin tek bir örneği işlemesi için gerekli batch boyutunu belirtir\n",
        "# Son boyut (1), gri tonlamalı (grayscale) bir görüntüyü temsil eder; renkli (RGB) görüntülerde bu değer 3 olurdu\n",
        "# Bu yeniden şekillendirme, modelin beklediği giriş formatına uygun hale getirir\n",
        "test_data = x_test[128].reshape(1, 28, 28, 1)\n",
        "\n",
        "# Modeli kullanarak test_data üzerindeki tahminleri yapar\n",
        "# predict fonksiyonu, verilen giriş verileri için modelin tahminlerini döndürür\n",
        "# batch_size=1 parametresi, modelin bir seferde sadece bir örneği işlemesini belirtir\n",
        "# Bu, modelin test_data'ya karşılık gelen sınıf olasılıklarını döndürür\n",
        "pre = model.predict(test_data, batch_size=1)\n"
      ],
      "metadata": {
        "colab": {
          "base_uri": "https://localhost:8080/"
        },
        "id": "1yIvgtrUskZK",
        "outputId": "e116d89f-2547-4fac-ba91-69aa1dafb904"
      },
      "execution_count": 47,
      "outputs": [
        {
          "output_type": "stream",
          "name": "stdout",
          "text": [
            "1/1 [==============================] - 0s 66ms/step\n"
          ]
        }
      ]
    },
    {
      "cell_type": "code",
      "source": [
        "import numpy as np\n",
        "\n",
        "# Test verileri üzerinde modelin tahminlerini yapar ve sınıf etiketlerini belirler\n",
        "# model.predict(test_data) fonksiyonu, test_data için modelin tahminlerini döndürür\n",
        "# np.argmax, tahmin edilen olasılıkların en yüksek olduğu sınıfı bulur\n",
        "# axis=-1 parametresi, son eksende (sınıf boyutunda) maksimum değeri arar\n",
        "# predicted_class, modelin test_data için tahmin ettiği sınıf etiketini içerir\n",
        "predicted_class = np.argmax(model.predict(test_data), axis=-1)\n",
        "print(\"Predicted Class:\", predicted_class)\n",
        "\n",
        "# Test verileri için modelin tahmin ettiği her sınıfın olasılıklarını alır\n",
        "# model.predict(test_data) fonksiyonu, her sınıf için tahmin edilen olasılıkları döndürür\n",
        "# predicted_probabilities, test_data'nın her sınıf için tahmin edilen olasılıklarını içerir\n",
        "predicted_probabilities = model.predict(test_data)\n",
        "print(\"Predicted Probabilities:\", predicted_probabilities)\n",
        "\n",
        "print(\"-------------------------------------------------\")\n",
        "\n",
        "# Test verileri üzerinde modelin tahmin ettiği olasılıkları tekrar alır\n",
        "# Bu, önceki kodla aynı işlevi görür ancak burada ek bir işlem yapılacaktır\n",
        "prob = model.predict(test_data)\n",
        "\n",
        "# Olasılıkları sınıf etiketlerine dönüştürür\n",
        "# np.argmax, her sınıf için tahmin edilen olasılıkların en yüksek olduğu sınıfı bulur\n",
        "# axis=1 parametresi, ikinci eksende (sınıf boyutunda) maksimum değeri arar\n",
        "# preds, test_data için tahmin edilen sınıf etiketlerini içerir\n",
        "preds = np.argmax(prob, axis=1)\n",
        "\n",
        "# Tahmin edilen sınıf etiketlerini ve her sınıf için tahmin edilen olasılıkları yazdırır\n",
        "print(preds, prob)\n"
      ],
      "metadata": {
        "colab": {
          "base_uri": "https://localhost:8080/"
        },
        "id": "R4gRBwFNsyE7",
        "outputId": "ff8d97e2-c09c-42a9-c7bc-0588be55f3a5"
      },
      "execution_count": 48,
      "outputs": [
        {
          "output_type": "stream",
          "name": "stdout",
          "text": [
            "1/1 [==============================] - 0s 66ms/step\n",
            "Predicted Class: [3]\n",
            "1/1 [==============================] - 0s 20ms/step\n",
            "Predicted Probabilities: [[0.09611696 0.08793248 0.10827096 0.11411392 0.09361245 0.10845862\n",
            "  0.09405132 0.08844816 0.1110772  0.09791795]]\n",
            "-------------------------------------------------\n",
            "1/1 [==============================] - 0s 18ms/step\n",
            "[3] [[0.09611696 0.08793248 0.10827096 0.11411392 0.09361245 0.10845862\n",
            "  0.09405132 0.08844816 0.1110772  0.09791795]]\n"
          ]
        }
      ]
    }
  ]
}